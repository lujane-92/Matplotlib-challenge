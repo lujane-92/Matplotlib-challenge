{
 "cells": [
  {
   "cell_type": "markdown",
   "metadata": {},
   "source": [
    "## Observations and Insights"
   ]
  },
  {
   "cell_type": "markdown",
   "metadata": {},
   "source": []
  },
  {
   "cell_type": "markdown",
   "metadata": {},
   "source": [
    "## Dependencies and starter code"
   ]
  },
  {
   "cell_type": "code",
   "execution_count": 1,
   "metadata": {},
   "outputs": [],
   "source": [
    "# Dependencies and Setup\n",
    "import matplotlib.pyplot as plt\n",
    "import pandas as pd\n",
    "import scipy.stats as st\n",
    "from scipy.stats import linregress\n",
    "import numpy as np\n",
    "\n",
    "# Study data files\n",
    "mouse_metadata = \"data/Mouse_metadata.csv\"\n",
    "study_results = \"data/Study_results.csv\"\n",
    "\n",
    "# Read the mouse data and the study results\n",
    "mouse_metadata = pd.read_csv(mouse_metadata)\n",
    "study_results = pd.read_csv(study_results)\n",
    "\n",
    "# Combine the data into a single dataset\n",
    "finaldata_df = pd.merge(mouse_metadata,study_results, on=\"Mouse ID\")"
   ]
  },
  {
   "cell_type": "code",
   "execution_count": 2,
   "metadata": {},
   "outputs": [],
   "source": [
    "final_df = finaldata_df.set_index(\"Drug Regimen\")\n",
    "regimen= finaldata_df[\"Drug Regimen\"].value_counts()\n",
    "count_df = pd.DataFrame(regimen)"
   ]
  },
  {
   "cell_type": "markdown",
   "metadata": {},
   "source": [
    "## Summary statistics"
   ]
  },
  {
   "cell_type": "code",
   "execution_count": 3,
   "metadata": {},
   "outputs": [
    {
     "data": {
      "text/html": [
       "<div>\n",
       "<style scoped>\n",
       "    .dataframe tbody tr th:only-of-type {\n",
       "        vertical-align: middle;\n",
       "    }\n",
       "\n",
       "    .dataframe tbody tr th {\n",
       "        vertical-align: top;\n",
       "    }\n",
       "\n",
       "    .dataframe thead th {\n",
       "        text-align: right;\n",
       "    }\n",
       "</style>\n",
       "<table border=\"1\" class=\"dataframe\">\n",
       "  <thead>\n",
       "    <tr style=\"text-align: right;\">\n",
       "      <th></th>\n",
       "      <th>Tumor Volume (Mean)</th>\n",
       "      <th>Tumor Volume (Median)</th>\n",
       "      <th>Tumor Volume (Variance)</th>\n",
       "      <th>Tumor Volume (Std. deviation)</th>\n",
       "      <th>Tumor Volume (SEM)</th>\n",
       "    </tr>\n",
       "    <tr>\n",
       "      <th>Drug Regimen</th>\n",
       "      <th></th>\n",
       "      <th></th>\n",
       "      <th></th>\n",
       "      <th></th>\n",
       "      <th></th>\n",
       "    </tr>\n",
       "  </thead>\n",
       "  <tbody>\n",
       "    <tr>\n",
       "      <td>Capomulin</td>\n",
       "      <td>40.675741</td>\n",
       "      <td>41.557809</td>\n",
       "      <td>24.947764</td>\n",
       "      <td>4.994774</td>\n",
       "      <td>0.329346</td>\n",
       "    </tr>\n",
       "    <tr>\n",
       "      <td>Ceftamin</td>\n",
       "      <td>52.591172</td>\n",
       "      <td>51.776157</td>\n",
       "      <td>39.290177</td>\n",
       "      <td>6.268188</td>\n",
       "      <td>0.469821</td>\n",
       "    </tr>\n",
       "    <tr>\n",
       "      <td>Infubinol</td>\n",
       "      <td>52.884795</td>\n",
       "      <td>51.820584</td>\n",
       "      <td>43.128684</td>\n",
       "      <td>6.567243</td>\n",
       "      <td>0.492236</td>\n",
       "    </tr>\n",
       "    <tr>\n",
       "      <td>Ketapril</td>\n",
       "      <td>55.235638</td>\n",
       "      <td>53.698743</td>\n",
       "      <td>68.553577</td>\n",
       "      <td>8.279709</td>\n",
       "      <td>0.603860</td>\n",
       "    </tr>\n",
       "    <tr>\n",
       "      <td>Naftisol</td>\n",
       "      <td>54.331565</td>\n",
       "      <td>52.509285</td>\n",
       "      <td>66.173479</td>\n",
       "      <td>8.134708</td>\n",
       "      <td>0.596466</td>\n",
       "    </tr>\n",
       "    <tr>\n",
       "      <td>Placebo</td>\n",
       "      <td>54.033581</td>\n",
       "      <td>52.288934</td>\n",
       "      <td>61.168083</td>\n",
       "      <td>7.821003</td>\n",
       "      <td>0.581331</td>\n",
       "    </tr>\n",
       "    <tr>\n",
       "      <td>Propriva</td>\n",
       "      <td>52.322552</td>\n",
       "      <td>50.854632</td>\n",
       "      <td>42.351070</td>\n",
       "      <td>6.507770</td>\n",
       "      <td>0.512884</td>\n",
       "    </tr>\n",
       "    <tr>\n",
       "      <td>Ramicane</td>\n",
       "      <td>40.216745</td>\n",
       "      <td>40.673236</td>\n",
       "      <td>23.486704</td>\n",
       "      <td>4.846308</td>\n",
       "      <td>0.320955</td>\n",
       "    </tr>\n",
       "    <tr>\n",
       "      <td>Stelasyn</td>\n",
       "      <td>54.233149</td>\n",
       "      <td>52.431737</td>\n",
       "      <td>59.450562</td>\n",
       "      <td>7.710419</td>\n",
       "      <td>0.573111</td>\n",
       "    </tr>\n",
       "    <tr>\n",
       "      <td>Zoniferol</td>\n",
       "      <td>53.236507</td>\n",
       "      <td>51.818479</td>\n",
       "      <td>48.533355</td>\n",
       "      <td>6.966589</td>\n",
       "      <td>0.516398</td>\n",
       "    </tr>\n",
       "  </tbody>\n",
       "</table>\n",
       "</div>"
      ],
      "text/plain": [
       "              Tumor Volume (Mean)  Tumor Volume (Median)  \\\n",
       "Drug Regimen                                               \n",
       "Capomulin               40.675741              41.557809   \n",
       "Ceftamin                52.591172              51.776157   \n",
       "Infubinol               52.884795              51.820584   \n",
       "Ketapril                55.235638              53.698743   \n",
       "Naftisol                54.331565              52.509285   \n",
       "Placebo                 54.033581              52.288934   \n",
       "Propriva                52.322552              50.854632   \n",
       "Ramicane                40.216745              40.673236   \n",
       "Stelasyn                54.233149              52.431737   \n",
       "Zoniferol               53.236507              51.818479   \n",
       "\n",
       "              Tumor Volume (Variance)  Tumor Volume (Std. deviation)  \\\n",
       "Drug Regimen                                                           \n",
       "Capomulin                   24.947764                       4.994774   \n",
       "Ceftamin                    39.290177                       6.268188   \n",
       "Infubinol                   43.128684                       6.567243   \n",
       "Ketapril                    68.553577                       8.279709   \n",
       "Naftisol                    66.173479                       8.134708   \n",
       "Placebo                     61.168083                       7.821003   \n",
       "Propriva                    42.351070                       6.507770   \n",
       "Ramicane                    23.486704                       4.846308   \n",
       "Stelasyn                    59.450562                       7.710419   \n",
       "Zoniferol                   48.533355                       6.966589   \n",
       "\n",
       "              Tumor Volume (SEM)  \n",
       "Drug Regimen                      \n",
       "Capomulin               0.329346  \n",
       "Ceftamin                0.469821  \n",
       "Infubinol               0.492236  \n",
       "Ketapril                0.603860  \n",
       "Naftisol                0.596466  \n",
       "Placebo                 0.581331  \n",
       "Propriva                0.512884  \n",
       "Ramicane                0.320955  \n",
       "Stelasyn                0.573111  \n",
       "Zoniferol               0.516398  "
      ]
     },
     "execution_count": 3,
     "metadata": {},
     "output_type": "execute_result"
    }
   ],
   "source": [
    "# Generate a summary statistics table of mean, median, variance, standard deviation, and SEM of the tumor volume for each regimen\n",
    "tumor_volume = finaldata_df[[\"Drug Regimen\", \"Tumor Volume (mm3)\"]] \n",
    "mean= tumor_volume.groupby(['Drug Regimen']).mean()\n",
    "median = tumor_volume.groupby(['Drug Regimen']).median()\n",
    "variance = tumor_volume.groupby(['Drug Regimen']).var()\n",
    "sd = tumor_volume.groupby(['Drug Regimen']).std()\n",
    "SEM = tumor_volume.groupby(['Drug Regimen']).sem()\n",
    "\n",
    "merged_a = pd.merge(mean, median, on = \"Drug Regimen\", suffixes=('_mean', '_median'))\n",
    "merged_b = pd.merge(merged_a, variance, on = \"Drug Regimen\")\n",
    "merged_c = pd.merge(merged_b, sd, on = \"Drug Regimen\", suffixes=('_variance', '_sd'))\n",
    "merged_d = pd.merge(merged_c, SEM, on = \"Drug Regimen\")\n",
    "summary_table = merged_d.rename(columns={\"Tumor Volume (mm3)_mean\":\"Tumor Volume (Mean)\", \n",
    "                                         \"Tumor Volume (mm3)_median\": \"Tumor Volume (Median)\",\n",
    "                                         \"Tumor Volume (mm3)_variance\": \"Tumor Volume (Variance)\",\n",
    "                                        \"Tumor Volume (mm3)_sd\": \"Tumor Volume (Std. deviation)\",\n",
    "                                        \"Tumor Volume (mm3)\": \"Tumor Volume (SEM)\"})\n",
    "summary_table\n"
   ]
  },
  {
   "cell_type": "markdown",
   "metadata": {},
   "source": [
    "## Bar plots"
   ]
  },
  {
   "cell_type": "code",
   "execution_count": 4,
   "metadata": {},
   "outputs": [
    {
     "data": {
      "image/png": "[encoded data removed]",
      "text/plain": [
       "<Figure size 432x288 with 1 Axes>"
      ]
     },
     "metadata": {
      "needs_background": "light"
     },
     "output_type": "display_data"
    },
    {
     "data": {
      "text/plain": [
       "<Figure size 432x288 with 0 Axes>"
      ]
     },
     "metadata": {},
     "output_type": "display_data"
    }
   ],
   "source": [
    "# Generate a bar plot showing number of data points for each treatment regimen using pandas\n",
    "count_chart = regimen.plot(kind=\"bar\")\n",
    "count_chart.set_xlabel(\"Name of the Drugs\")\n",
    "count_chart.set_ylabel(\"Number of experiments\")\n",
    "\n",
    "plt.title(\"Details of Treatment\")\n",
    "plt.xlim(-0.50, len(regimen))\n",
    "plt.ylim(0, max(count_df[\"Drug Regimen\"])+10)\n",
    "plt.show()\n",
    "plt.tight_layout()"
   ]
  },
  {
   "cell_type": "code",
   "execution_count": 5,
   "metadata": {},
   "outputs": [
    {
     "data": {
      "image/png": "[encoded data removed]",
      "text/plain": [
       "<Figure size 432x288 with 1 Axes>"
      ]
     },
     "metadata": {
      "needs_background": "light"
     },
     "output_type": "display_data"
    },
    {
     "data": {
      "text/plain": [
       "<Figure size 432x288 with 0 Axes>"
      ]
     },
     "metadata": {},
     "output_type": "display_data"
    }
   ],
   "source": [
    "# Generate a bar plot showing number of data points for each treatment regimen using pyplot\n",
    "x_axis = np.arange(len(count_df))\n",
    "tick_locations = [value+0.4 for value in x_axis]\n",
    "plt.bar(x_axis, count_df[\"Drug Regimen\"], width = 0.5, color='b', alpha = 0.7, align=\"edge\")\n",
    "plt.xticks(tick_locations,[\"Capomulin\", \"Ramicane\", \"Ketapril\", \"Naftisol\", \"Zoniferol\", \"Placebo\", \"Stelasyn\", \"Infubinol\", \"Ceftamin\", \"Propriva\"], rotation=\"vertical\")\n",
    "plt.xlim(-0.25, len(x_axis))\n",
    "plt.ylim(0, max(count_df[\"Drug Regimen\"])+10)\n",
    "\n",
    "plt.title(\"Details of Treatment\")\n",
    "plt.xlabel(\"Name of the Drugs\")\n",
    "plt.ylabel(\"Number of experiments\")\n",
    "\n",
    "plt.show()\n",
    "plt.tight_layout()"
   ]
  },
  {
   "cell_type": "markdown",
   "metadata": {},
   "source": [
    "## Pie plots"
   ]
  },
  {
   "cell_type": "code",
   "execution_count": 6,
   "metadata": {},
   "outputs": [
    {
     "data": {
      "text/plain": [
       "Sex\n",
       "Female    935\n",
       "Male      958\n",
       "Name: Mouse ID, dtype: int64"
      ]
     },
     "execution_count": 6,
     "metadata": {},
     "output_type": "execute_result"
    }
   ],
   "source": [
    "gender = finaldata_df.groupby(\"Sex\").count()\n",
    "gender[\"Mouse ID\"]"
   ]
  },
  {
   "cell_type": "code",
   "execution_count": 7,
   "metadata": {},
   "outputs": [
    {
     "data": {
      "text/plain": [
       "<matplotlib.axes._subplots.AxesSubplot at 0x1d3ef82a8c8>"
      ]
     },
     "execution_count": 7,
     "metadata": {},
     "output_type": "execute_result"
    },
    {
     "data": {
      "image/png": "[encoded data removed]",
      "text/plain": [
       "<Figure size 360x360 with 1 Axes>"
      ]
     },
     "metadata": {},
     "output_type": "display_data"
    }
   ],
   "source": [
    "# Generate a pie plot showing the distribution of female versus male mice using pandas\n",
    "gender_df = pd.DataFrame(gender[\"Mouse ID\"])\n",
    "gender_df.plot.pie(y='Mouse ID', figsize=(5, 5), title= \"Gender Details\")"
   ]
  },
  {
   "cell_type": "code",
   "execution_count": 8,
   "metadata": {},
   "outputs": [
    {
     "data": {
      "text/plain": [
       "([<matplotlib.patches.Wedge at 0x1d3ef8b9bc8>,\n",
       "  <matplotlib.patches.Wedge at 0x1d3ef8b9f48>],\n",
       " [Text(-0.7536615388097399, -0.933806342299588, 'Male'),\n",
       "  Text(0.690856410575595, 0.8559891471079556, 'Female')])"
      ]
     },
     "execution_count": 8,
     "metadata": {},
     "output_type": "execute_result"
    },
    {
     "data": {
      "image/png": "[encoded data removed]",
      "text/plain": [
       "<Figure size 432x288 with 1 Axes>"
      ]
     },
     "metadata": {},
     "output_type": "display_data"
    }
   ],
   "source": [
    "# Generate a pie plot showing the distribution of female versus male mice using pyplot\n",
    "gender = [\"Male\", \"Female\"]\n",
    "sizes = [\"958\", \"935\"]\n",
    "color = [\"orange\", \"blue\"]\n",
    "explode = [0.1,0]\n",
    "\n",
    "plt.title(\"Gender Details\")\n",
    "plt.pie(sizes, explode=explode, labels=gender, colors=color, shadow=True, startangle=140)"
   ]
  },
  {
   "cell_type": "markdown",
   "metadata": {},
   "source": [
    "## Quartiles, outliers and boxplots"
   ]
  },
  {
   "cell_type": "code",
   "execution_count": 9,
   "metadata": {},
   "outputs": [
    {
     "name": "stdout",
     "output_type": "stream",
     "text": [
      "The lower quartile of Capomulin tumor volume is: 32.37735684\n",
      "The upper quartile of Capomulin tumor volume is: 40.1592203\n",
      "The interquartile range of Capomulin tumor volume is: 7.781863460000004\n",
      "The the median of Capomulin tumor volume is: 38.125164399999996 \n",
      "Values below 20.70456164999999 mm3 could be outliers.\n",
      "Values above 51.83201549 mm3 could be outliers.\n",
      "----------------------------------------------------------------\n",
      "The lower quartile of Ceftamin tumor volume is: 48.72207785\n",
      "The upper quartile of Ceftamin tumor volume is: 64.29983003\n",
      "The interquartile range of Ceftamin tumor volume is: 15.577752179999997\n",
      "The the median of Ceftamin tumor volume is: 59.85195552 \n",
      "Values below 25.355449580000002 mm3 could be outliers.\n",
      "Values above 87.66645829999999 mm3 could be outliers.\n",
      "----------------------------------------------------------------\n",
      "The lower quartile of Infubinol tumor volume is: 54.04860769\n",
      "The upper quartile of Infubinol tumor volume is: 65.52574285\n",
      "The interquartile range of Infubinol tumor volume is: 11.477135160000003\n",
      "The the median of Infubinol tumor volume is: 60.16518046 \n",
      "Values below 36.83290494999999 mm3 could be outliers.\n",
      "Values above 82.74144559000001 mm3 could be outliers.\n",
      "----------------------------------------------------------------\n",
      "The lower quartile of Ramicane tumor volume is: 31.56046955\n",
      "The upper quartile of Ramicane tumor volume is: 40.65900627\n",
      "The interquartile range of Ramicane tumor volume is: 9.098536719999998\n",
      "The the median of Ramicane tumor volume is: 36.56165229 \n",
      "Values below 17.912664470000003 mm3 could be outliers.\n",
      "Values above 54.30681135 mm3 could be outliers.\n"
     ]
    }
   ],
   "source": [
    "# Calculate the final tumor volume of each mouse across four of the most promising treatment regimens. Calculate the IQR and quantitatively determine if there are any potential outliers. \n",
    "last_value= final_df.drop_duplicates(subset='Mouse ID', keep='last')\n",
    "df_cap = last_value.loc[[\"Capomulin\"]]\n",
    "df_cef = last_value.loc[[\"Ceftamin\"]]\n",
    "df_i = last_value.loc[[\"Infubinol\"]]\n",
    "df_r = last_value.loc[[\"Ramicane\"]]\n",
    "df_cap_1=df_cap[\"Tumor Volume (mm3)\"]\n",
    "df_cef_1=df_cef[\"Tumor Volume (mm3)\"]\n",
    "df_i_1=df_i[\"Tumor Volume (mm3)\"]\n",
    "df_r_1=df_r[\"Tumor Volume (mm3)\"]\n",
    "total_vol = [df_cap_1,df_cef_1,df_i_1,df_r_1]\n",
    "\n",
    "#Capomulin Quartile\n",
    "quartiles = df_cap_1.quantile([.25,.5,.75])\n",
    "lowerq = quartiles[0.25]\n",
    "upperq = quartiles[0.75]\n",
    "iqr = upperq-lowerq\n",
    "lower_bound = lowerq - (1.5*iqr)\n",
    "upper_bound = upperq + (1.5*iqr)\n",
    "\n",
    "print(f\"The lower quartile of Capomulin tumor volume is: {lowerq}\")\n",
    "print(f\"The upper quartile of Capomulin tumor volume is: {upperq}\")\n",
    "print(f\"The interquartile range of Capomulin tumor volume is: {iqr}\")\n",
    "print(f\"The the median of Capomulin tumor volume is: {quartiles[0.5]} \")\n",
    "print(f\"Values below {lower_bound} mm3 could be outliers.\")\n",
    "print(f\"Values above {upper_bound} mm3 could be outliers.\")\n",
    "print(\"----------------------------------------------------------------\")\n",
    "\n",
    "#Ceftamin Quartile\n",
    "quartiles = df_cef_1.quantile([.25,.5,.75])\n",
    "lowerq = quartiles[0.25]\n",
    "upperq = quartiles[0.75]\n",
    "iqr = upperq-lowerq\n",
    "lower_bound = lowerq - (1.5*iqr)\n",
    "upper_bound = upperq + (1.5*iqr)\n",
    "\n",
    "print(f\"The lower quartile of Ceftamin tumor volume is: {lowerq}\")\n",
    "print(f\"The upper quartile of Ceftamin tumor volume is: {upperq}\")\n",
    "print(f\"The interquartile range of Ceftamin tumor volume is: {iqr}\")\n",
    "print(f\"The the median of Ceftamin tumor volume is: {quartiles[0.5]} \")\n",
    "print(f\"Values below {lower_bound} mm3 could be outliers.\")\n",
    "print(f\"Values above {upper_bound} mm3 could be outliers.\")\n",
    "print(\"----------------------------------------------------------------\")\n",
    "\n",
    "#Infubinol Quartile\n",
    "quartiles = df_i_1.quantile([.25,.5,.75])\n",
    "lowerq = quartiles[0.25]\n",
    "upperq = quartiles[0.75]\n",
    "iqr = upperq-lowerq\n",
    "lower_bound = lowerq - (1.5*iqr)\n",
    "upper_bound = upperq + (1.5*iqr)\n",
    "\n",
    "print(f\"The lower quartile of Infubinol tumor volume is: {lowerq}\")\n",
    "print(f\"The upper quartile of Infubinol tumor volume is: {upperq}\")\n",
    "print(f\"The interquartile range of Infubinol tumor volume is: {iqr}\")\n",
    "print(f\"The the median of Infubinol tumor volume is: {quartiles[0.5]} \")\n",
    "print(f\"Values below {lower_bound} mm3 could be outliers.\")\n",
    "print(f\"Values above {upper_bound} mm3 could be outliers.\")\n",
    "print(\"----------------------------------------------------------------\")\n",
    "\n",
    "#Ramicane Quartile\n",
    "quartiles = df_r_1.quantile([.25,.5,.75])\n",
    "lowerq = quartiles[0.25]\n",
    "upperq = quartiles[0.75]\n",
    "iqr = upperq-lowerq\n",
    "lower_bound = lowerq - (1.5*iqr)\n",
    "upper_bound = upperq + (1.5*iqr)\n",
    "\n",
    "print(f\"The lower quartile of Ramicane tumor volume is: {lowerq}\")\n",
    "print(f\"The upper quartile of Ramicane tumor volume is: {upperq}\")\n",
    "print(f\"The interquartile range of Ramicane tumor volume is: {iqr}\")\n",
    "print(f\"The the median of Ramicane tumor volume is: {quartiles[0.5]} \")\n",
    "print(f\"Values below {lower_bound} mm3 could be outliers.\")\n",
    "print(f\"Values above {upper_bound} mm3 could be outliers.\")"
   ]
  },
  {
   "cell_type": "code",
   "execution_count": 16,
   "metadata": {},
   "outputs": [
    {
     "data": {
      "image/png": "[encoded data removed]",
      "text/plain": [
       "<Figure size 432x288 with 1 Axes>"
      ]
     },
     "metadata": {
      "needs_background": "light"
     },
     "output_type": "display_data"
    }
   ],
   "source": [
    "# Generate a box plot of the final tumor volume of each mouse across four regimens of interest\n",
    "fig1, ax1 = plt.subplots()\n",
    "ax1.set_title('Tumor')\n",
    "ax1.set_ylabel('Tumor Volume')\n",
    "ax1.boxplot(total_vol)\n",
    "plt.xticks([1,2,3,4],[\"Capomulin\", \"Ceftamin\", \"Infubinol\", \"Ramicane\"])\n",
    "plt.show()"
   ]
  },
  {
   "cell_type": "markdown",
   "metadata": {},
   "source": [
    "## Line and scatter plots"
   ]
  },
  {
   "cell_type": "code",
   "execution_count": 41,
   "metadata": {},
   "outputs": [
    {
     "data": {
      "image/png": "[encoded data removed]",
      "text/plain": [
       "<Figure size 432x288 with 1 Axes>"
      ]
     },
     "metadata": {
      "needs_background": "light"
     },
     "output_type": "display_data"
    }
   ],
   "source": [
    "# Generate a line plot of time point versus tumor volume for a mouse treated with Capomulin\n",
    "only_capomul = finaldata_df.loc[finaldata_df[\"Drug Regimen\"]==\"Capomulin\",:]\n",
    "mouse_df = only_capomul.loc[only_capomul[\"Mouse ID\"] == \"s185\"]\n",
    "mouse_df = mouse_df.loc[:, [\"Timepoint\", \"Tumor Volume (mm3)\"]]\n",
    "\n",
    "Mouseplot = mouse_df.set_index('Timepoint').plot(linewidth=3.0, color=\"blue\", title = \"Tumor volume over time under Capomulin\")\n",
    "Mouseplot.set_xlabel(\"Time Point\")\n",
    "Mouseplot.set_ylabel(\"Tumor Volume\")\n",
    "plt.title(\"Details of Capomulin Regimen\")\n",
    "plt.show()"
   ]
  },
  {
   "cell_type": "code",
   "execution_count": 40,
   "metadata": {},
   "outputs": [
    {
     "data": {
      "image/png": "[encoded data removed]",
      "text/plain": [
       "<Figure size 432x288 with 1 Axes>"
      ]
     },
     "metadata": {
      "needs_background": "light"
     },
     "output_type": "display_data"
    }
   ],
   "source": [
    "# Generate a scatter plot of mouse weight versus average tumor volume for the Capomulin regimen\n",
    "reduced_df = only_capomul.loc[:, [\"Mouse ID\", \"Weight (g)\", \"Tumor Volume (mm3)\"]]\n",
    "\n",
    "avg_cap = pd.DataFrame(reduced_df.groupby([\"Mouse ID\", \"Weight (g)\"])[\"Tumor Volume (mm3)\"].mean()).reset_index()\n",
    "avg_cap = avg_cap.rename(columns={\"Tumor Volume (mm3)\": \"Average Volume\"})\n",
    "avg_cap = avg_cap.set_index('Mouse ID')\n",
    "mouse_weight = avg_cap.iloc[:,0]\n",
    "avg_tumor_volume = avg_cap.iloc[:,1]\n",
    "\n",
    "x_values = avg_cap[\"Weight (g)\"]\n",
    "y_values = avg_cap[\"Average Volume\"]\n",
    "(slope, intercept, rvalue, pvalue, stderr) = linregress(x_values, y_values)\n",
    "regress_values = x_values * slope + intercept\n",
    "line_eq = \"y = \" + str(round(slope,2)) + \"x + \" + str(round(intercept,2))\n",
    "\n",
    "plt.scatter(x_values,y_values)\n",
    "plt.plot(x_values,regress_values,\"r-\")\n",
    "plt.annotate(line_eq,(6,10),fontsize=15,color=\"red\")\n",
    "plt.xlabel('Mouse Weight')\n",
    "plt.ylabel('Average Tumor Volume')\n",
    "plt.show()"
   ]
  },
  {
   "cell_type": "code",
   "execution_count": 39,
   "metadata": {},
   "outputs": [
    {
     "name": "stdout",
     "output_type": "stream",
     "text": [
      "The correlation between both factors is 0.84\n"
     ]
    }
   ],
   "source": [
    "# Calculate the correlation coefficient and linear regression model for mouse weight and average tumor volume for the Capomulin regimen\n",
    "\n",
    "correlation = st.pearsonr(mouse_weight,avg_tumor_volume)\n",
    "print(f\"The correlation between both factors is {round(correlation[0],2)}\")"
   ]
  },
  {
   "cell_type": "code",
   "execution_count": 19,
   "metadata": {
    "scrolled": true
   },
   "outputs": [
    {
     "name": "stdout",
     "output_type": "stream",
     "text": [
      "Observations: Comapred to other regimens, experiments in Capomulin & Ramicane were more in numbers. Equal number of male & female mouses were observed. Positive co-relation between Avg tumor volume & Mouse weight was observed during study.\n"
     ]
    }
   ],
   "source": [
    "#Observations\n",
    "print(f\"Observations: Comapred to other regimens, experiments in Capomulin & Ramicane were more in numbers. Equal number of male & female mouses were observed. Positive co-relation between Avg tumor volume & Mouse weight was observed during study.\")         "
   ]
  }
 ],
 "metadata": {
  "anaconda-cloud": {},
  "kernelspec": {
   "display_name": "Python 3",
   "language": "python",
   "name": "python3"
  },
  "language_info": {
   "codemirror_mode": {
    "name": "ipython",
    "version": 3
   },
   "file_extension": ".py",
   "mimetype": "text/x-python",
   "name": "python",
   "nbconvert_exporter": "python",
   "pygments_lexer": "ipython3",
   "version": "3.7.4"
  }
 },
 "nbformat": 4,
 "nbformat_minor": 2
}
