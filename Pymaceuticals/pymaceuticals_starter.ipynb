{
 "cells": [
  {
   "cell_type": "markdown",
   "metadata": {},
   "source": [
    "## Observations and Insights"
   ]
  },
  {
   "cell_type": "markdown",
   "metadata": {},
   "source": []
  },
  {
   "cell_type": "markdown",
   "metadata": {},
   "source": [
    "## Dependencies and starter code"
   ]
  },
  {
   "cell_type": "code",
   "execution_count": 112,
   "metadata": {},
   "outputs": [
    {
     "data": {
      "text/html": [
       "<div>\n",
       "<style scoped>\n",
       "    .dataframe tbody tr th:only-of-type {\n",
       "        vertical-align: middle;\n",
       "    }\n",
       "\n",
       "    .dataframe tbody tr th {\n",
       "        vertical-align: top;\n",
       "    }\n",
       "\n",
       "    .dataframe thead th {\n",
       "        text-align: right;\n",
       "    }\n",
       "</style>\n",
       "<table border=\"1\" class=\"dataframe\">\n",
       "  <thead>\n",
       "    <tr style=\"text-align: right;\">\n",
       "      <th></th>\n",
       "      <th>Mouse ID</th>\n",
       "      <th>Drug Regimen</th>\n",
       "      <th>Sex</th>\n",
       "      <th>Age_months</th>\n",
       "      <th>Weight (g)</th>\n",
       "      <th>Timepoint</th>\n",
       "      <th>Tumor Volume (mm3)</th>\n",
       "      <th>Metastatic Sites</th>\n",
       "    </tr>\n",
       "  </thead>\n",
       "  <tbody>\n",
       "    <tr>\n",
       "      <th>0</th>\n",
       "      <td>k403</td>\n",
       "      <td>Ramicane</td>\n",
       "      <td>Male</td>\n",
       "      <td>21</td>\n",
       "      <td>16</td>\n",
       "      <td>0</td>\n",
       "      <td>45.000000</td>\n",
       "      <td>0</td>\n",
       "    </tr>\n",
       "    <tr>\n",
       "      <th>1</th>\n",
       "      <td>k403</td>\n",
       "      <td>Ramicane</td>\n",
       "      <td>Male</td>\n",
       "      <td>21</td>\n",
       "      <td>16</td>\n",
       "      <td>5</td>\n",
       "      <td>38.825898</td>\n",
       "      <td>0</td>\n",
       "    </tr>\n",
       "    <tr>\n",
       "      <th>2</th>\n",
       "      <td>k403</td>\n",
       "      <td>Ramicane</td>\n",
       "      <td>Male</td>\n",
       "      <td>21</td>\n",
       "      <td>16</td>\n",
       "      <td>10</td>\n",
       "      <td>35.014271</td>\n",
       "      <td>1</td>\n",
       "    </tr>\n",
       "    <tr>\n",
       "      <th>3</th>\n",
       "      <td>k403</td>\n",
       "      <td>Ramicane</td>\n",
       "      <td>Male</td>\n",
       "      <td>21</td>\n",
       "      <td>16</td>\n",
       "      <td>15</td>\n",
       "      <td>34.223992</td>\n",
       "      <td>1</td>\n",
       "    </tr>\n",
       "    <tr>\n",
       "      <th>4</th>\n",
       "      <td>k403</td>\n",
       "      <td>Ramicane</td>\n",
       "      <td>Male</td>\n",
       "      <td>21</td>\n",
       "      <td>16</td>\n",
       "      <td>20</td>\n",
       "      <td>32.997729</td>\n",
       "      <td>1</td>\n",
       "    </tr>\n",
       "  </tbody>\n",
       "</table>\n",
       "</div>"
      ],
      "text/plain": [
       "  Mouse ID Drug Regimen   Sex  Age_months  Weight (g)  Timepoint  \\\n",
       "0     k403     Ramicane  Male          21          16          0   \n",
       "1     k403     Ramicane  Male          21          16          5   \n",
       "2     k403     Ramicane  Male          21          16         10   \n",
       "3     k403     Ramicane  Male          21          16         15   \n",
       "4     k403     Ramicane  Male          21          16         20   \n",
       "\n",
       "   Tumor Volume (mm3)  Metastatic Sites  \n",
       "0           45.000000                 0  \n",
       "1           38.825898                 0  \n",
       "2           35.014271                 1  \n",
       "3           34.223992                 1  \n",
       "4           32.997729                 1  "
      ]
     },
     "execution_count": 112,
     "metadata": {},
     "output_type": "execute_result"
    }
   ],
   "source": [
    "# Dependencies and Setup\n",
    "import matplotlib.pyplot as plt\n",
    "import pandas as pd\n",
    "import scipy.stats as st\n",
    "from scipy.stats import linregress\n",
    "import numpy as np\n",
    "\n",
    "# Study data files\n",
    "mouse_metadata = \"data/Mouse_metadata.csv\"\n",
    "study_results = \"data/Study_results.csv\"\n",
    "\n",
    "# Read the mouse data and the study results\n",
    "mouse_metadata = pd.read_csv(mouse_metadata)\n",
    "study_results = pd.read_csv(study_results)\n",
    "\n",
    "# Combine the data into a single dataset\n",
    "merged_data = pd.merge(mouse_metadata, study_results, on=\"Mouse ID\")\n",
    "\n",
    "merged_data.head()\n"
   ]
  },
  {
   "cell_type": "markdown",
   "metadata": {},
   "source": [
    "## Summary statistics"
   ]
  },
  {
   "cell_type": "code",
   "execution_count": 164,
   "metadata": {},
   "outputs": [
    {
     "data": {
      "text/html": [
       "<div>\n",
       "<style scoped>\n",
       "    .dataframe tbody tr th:only-of-type {\n",
       "        vertical-align: middle;\n",
       "    }\n",
       "\n",
       "    .dataframe tbody tr th {\n",
       "        vertical-align: top;\n",
       "    }\n",
       "\n",
       "    .dataframe thead th {\n",
       "        text-align: right;\n",
       "    }\n",
       "</style>\n",
       "<table border=\"1\" class=\"dataframe\">\n",
       "  <thead>\n",
       "    <tr style=\"text-align: right;\">\n",
       "      <th></th>\n",
       "      <th>Mean (mm3)</th>\n",
       "      <th>Median(mm3)</th>\n",
       "      <th>Variance (mm3)</th>\n",
       "      <th>StrDev (mm3)</th>\n",
       "      <th>Tumor Volume (mm3)</th>\n",
       "    </tr>\n",
       "    <tr>\n",
       "      <th>Drug Regimen</th>\n",
       "      <th></th>\n",
       "      <th></th>\n",
       "      <th></th>\n",
       "      <th></th>\n",
       "      <th></th>\n",
       "    </tr>\n",
       "  </thead>\n",
       "  <tbody>\n",
       "    <tr>\n",
       "      <th>Capomulin</th>\n",
       "      <td>40.68</td>\n",
       "      <td>41.56</td>\n",
       "      <td>24.95</td>\n",
       "      <td>4.99</td>\n",
       "      <td>0.33</td>\n",
       "    </tr>\n",
       "    <tr>\n",
       "      <th>Ceftamin</th>\n",
       "      <td>52.59</td>\n",
       "      <td>51.78</td>\n",
       "      <td>39.29</td>\n",
       "      <td>6.27</td>\n",
       "      <td>0.47</td>\n",
       "    </tr>\n",
       "    <tr>\n",
       "      <th>Infubinol</th>\n",
       "      <td>52.88</td>\n",
       "      <td>51.82</td>\n",
       "      <td>43.13</td>\n",
       "      <td>6.57</td>\n",
       "      <td>0.49</td>\n",
       "    </tr>\n",
       "    <tr>\n",
       "      <th>Ketapril</th>\n",
       "      <td>55.24</td>\n",
       "      <td>53.70</td>\n",
       "      <td>68.55</td>\n",
       "      <td>8.28</td>\n",
       "      <td>0.60</td>\n",
       "    </tr>\n",
       "    <tr>\n",
       "      <th>Naftisol</th>\n",
       "      <td>54.33</td>\n",
       "      <td>52.51</td>\n",
       "      <td>66.17</td>\n",
       "      <td>8.13</td>\n",
       "      <td>0.60</td>\n",
       "    </tr>\n",
       "    <tr>\n",
       "      <th>Placebo</th>\n",
       "      <td>54.03</td>\n",
       "      <td>52.29</td>\n",
       "      <td>61.17</td>\n",
       "      <td>7.82</td>\n",
       "      <td>0.58</td>\n",
       "    </tr>\n",
       "    <tr>\n",
       "      <th>Propriva</th>\n",
       "      <td>52.32</td>\n",
       "      <td>50.85</td>\n",
       "      <td>42.35</td>\n",
       "      <td>6.51</td>\n",
       "      <td>0.51</td>\n",
       "    </tr>\n",
       "    <tr>\n",
       "      <th>Ramicane</th>\n",
       "      <td>40.22</td>\n",
       "      <td>40.67</td>\n",
       "      <td>23.49</td>\n",
       "      <td>4.85</td>\n",
       "      <td>0.32</td>\n",
       "    </tr>\n",
       "    <tr>\n",
       "      <th>Stelasyn</th>\n",
       "      <td>54.23</td>\n",
       "      <td>52.43</td>\n",
       "      <td>59.45</td>\n",
       "      <td>7.71</td>\n",
       "      <td>0.57</td>\n",
       "    </tr>\n",
       "    <tr>\n",
       "      <th>Zoniferol</th>\n",
       "      <td>53.24</td>\n",
       "      <td>51.82</td>\n",
       "      <td>48.53</td>\n",
       "      <td>6.97</td>\n",
       "      <td>0.52</td>\n",
       "    </tr>\n",
       "  </tbody>\n",
       "</table>\n",
       "</div>"
      ],
      "text/plain": [
       "              Mean (mm3)  Median(mm3)  Variance (mm3)  StrDev (mm3)  \\\n",
       "Drug Regimen                                                          \n",
       "Capomulin          40.68        41.56           24.95          4.99   \n",
       "Ceftamin           52.59        51.78           39.29          6.27   \n",
       "Infubinol          52.88        51.82           43.13          6.57   \n",
       "Ketapril           55.24        53.70           68.55          8.28   \n",
       "Naftisol           54.33        52.51           66.17          8.13   \n",
       "Placebo            54.03        52.29           61.17          7.82   \n",
       "Propriva           52.32        50.85           42.35          6.51   \n",
       "Ramicane           40.22        40.67           23.49          4.85   \n",
       "Stelasyn           54.23        52.43           59.45          7.71   \n",
       "Zoniferol          53.24        51.82           48.53          6.97   \n",
       "\n",
       "              Tumor Volume (mm3)  \n",
       "Drug Regimen                      \n",
       "Capomulin                   0.33  \n",
       "Ceftamin                    0.47  \n",
       "Infubinol                   0.49  \n",
       "Ketapril                    0.60  \n",
       "Naftisol                    0.60  \n",
       "Placebo                     0.58  \n",
       "Propriva                    0.51  \n",
       "Ramicane                    0.32  \n",
       "Stelasyn                    0.57  \n",
       "Zoniferol                   0.52  "
      ]
     },
     "execution_count": 164,
     "metadata": {},
     "output_type": "execute_result"
    }
   ],
   "source": [
    "# Generate a summary statistics table of mean, median, variance, standard deviation, and SEM of the tumor volume for each regimen\n",
    "grouped_data = merged_data.groupby(\"Drug Regimen\")\n",
    "mean = round(grouped_data[[\"Tumor Volume (mm3)\"]].mean(),2)\n",
    "median = round(grouped_data[[\"Tumor Volume (mm3)\"]].median(),2)\n",
    "var = round(grouped_data[[\"Tumor Volume (mm3)\"]].var(),2)\n",
    "strdev = round(grouped_data[[\"Tumor Volume (mm3)\"]].std(),2)\n",
    "sem = round(grouped_data[[\"Tumor Volume (mm3)\"]].sem(),2)\n",
    "\n",
    "merged_a = pd.merge(mean, median, on = \"Drug Regimen\", suffixes=('_mean', '_median'))\n",
    "merged_b = pd.merge(merged_a, var, on = \"Drug Regimen\")\n",
    "merged_c = pd.merge(merged_b, strdev, on = \"Drug Regimen\", suffixes=('_var', '_strdev'))\n",
    "merged_d = pd.merge(merged_c, sem, on = \"Drug Regimen\")\n",
    "\n",
    "merged_d.rename(columns={\"Tumor Volume (mm3)_mean\":\"Mean (mm3)\",\n",
    "                         \"Tumor Volume (mm3)_median\":\"Median(mm3)\",\n",
    "                         \"Tumor Volume (mm3)_var\":\"Variance (mm3)\",\n",
    "                         \"Tumor Volume (mm3)_strdev\":\"StrDev (mm3)\",\n",
    "                         \"Tumor Volume (mm3)_SEM\":\"SEM (mm3)\"                        \n",
    "                        })"
   ]
  },
  {
   "cell_type": "markdown",
   "metadata": {},
   "source": [
    "## Bar plots"
   ]
  },
  {
   "cell_type": "code",
   "execution_count": 114,
   "metadata": {},
   "outputs": [
    {
     "data": {
      "text/plain": [
       "Text(0, 0.5, 'No.of data points')"
      ]
     },
     "execution_count": 114,
     "metadata": {},
     "output_type": "execute_result"
    },
    {
     "data": {
      "image/png": "[encoded data removed]",
      "text/plain": [
       "<Figure size 432x288 with 1 Axes>"
      ]
     },
     "metadata": {
      "needs_background": "light"
     },
     "output_type": "display_data"
    }
   ],
   "source": [
    "# Generate a bar plot showing number of data points for each treatment regimen using pandas\n",
    "count = grouped_data[[\"Drug Regimen\"]].count()\n",
    "\n",
    "count_a = count.rename(columns={\"Drug Regimen\":\"Drug Regimen\", \"Drug Regimen\":\"count of points\"})\n",
    "count_sorted = count_a.sort_values(by=\"count of points\", ascending=False)\n",
    "\n",
    "pandas_plot = count_sorted.plot(kind='bar',title=\"No.of data points per regimen\")\n",
    "pandas_plot.set_xlabel(\"Drug Regimen\")\n",
    "pandas_plot.set_ylabel(\"No.of data points\")"
   ]
  },
  {
   "cell_type": "code",
   "execution_count": 115,
   "metadata": {},
   "outputs": [
    {
     "data": {
      "image/png": "[encoded data removed]",
      "text/plain": [
       "<Figure size 432x288 with 1 Axes>"
      ]
     },
     "metadata": {
      "needs_background": "light"
     },
     "output_type": "display_data"
    }
   ],
   "source": [
    "# Generate a bar plot showing number of data points for each treatment regimen using pyplot\n",
    "drug_list = merged_data[\"Drug Regimen\"].unique()\n",
    "drug_count = merged_data[\"Drug Regimen\"].value_counts()\n",
    "\n",
    "x_axis = drug_list\n",
    "\n",
    "plt.title(\"No.of data points per regimen\")\n",
    "plt.xlabel(\"Drug Regimen\")\n",
    "plt.ylabel(\"No.of data points\")\n",
    "\n",
    "plt.xticks(rotation=90)\n",
    "\n",
    "plt.bar(x_axis, drug_count)\n",
    "plt.show()\n"
   ]
  },
  {
   "cell_type": "markdown",
   "metadata": {},
   "source": [
    "## Pie plots"
   ]
  },
  {
   "cell_type": "code",
   "execution_count": 116,
   "metadata": {},
   "outputs": [
    {
     "data": {
      "text/plain": [
       "Sex\n",
       "Female    935\n",
       "Male      958\n",
       "Name: Mouse ID, dtype: int64"
      ]
     },
     "execution_count": 116,
     "metadata": {},
     "output_type": "execute_result"
    }
   ],
   "source": [
    "# Generate a pie plot showing the distribution of female versus male mice using pandas\n",
    "gender = merged_data.groupby(\"Sex\").count()\n",
    "gender[\"Mouse ID\"]"
   ]
  },
  {
   "cell_type": "code",
   "execution_count": 117,
   "metadata": {},
   "outputs": [
    {
     "data": {
      "text/plain": [
       "<matplotlib.axes._subplots.AxesSubplot at 0x27f59777668>"
      ]
     },
     "execution_count": 117,
     "metadata": {},
     "output_type": "execute_result"
    },
    {
     "data": {
      "image/png": "[encoded data removed]",
      "text/plain": [
       "<Figure size 360x360 with 1 Axes>"
      ]
     },
     "metadata": {},
     "output_type": "display_data"
    }
   ],
   "source": [
    "gender_df = pd.DataFrame(gender[\"Mouse ID\"])\n",
    "gender_df.plot.pie(y='Mouse ID', figsize=(5, 5), title= \"female versus male\")"
   ]
  },
  {
   "cell_type": "code",
   "execution_count": 118,
   "metadata": {},
   "outputs": [
    {
     "data": {
      "image/png": "[encoded data removed]",
      "text/plain": [
       "<Figure size 432x288 with 1 Axes>"
      ]
     },
     "metadata": {},
     "output_type": "display_data"
    }
   ],
   "source": [
    "# Generate a pie plot showing the distribution of female versus male mice using pyplot\n",
    "labels = [\"female\", \"male\"]\n",
    "count_sex = gender[\"Mouse ID\"]\n",
    "colors = [\"blue\", \"darkorange\"]\n",
    "explode = (0, 0)\n",
    "plt.title(\"female versus male\")\n",
    "plt.pie(count_sex, explode=explode, labels=labels, colors=colors,\n",
    "        autopct=\"%1.1f%%\", shadow=False, startangle=180)\n",
    "plt.axis(\"equal\")\n",
    "plt.legend()\n",
    "plt.show()"
   ]
  },
  {
   "cell_type": "markdown",
   "metadata": {},
   "source": [
    "## Quartiles, outliers and boxplots"
   ]
  },
  {
   "cell_type": "code",
   "execution_count": 119,
   "metadata": {},
   "outputs": [],
   "source": [
    "# Calculate the final tumor volume of each mouse across four of the most promising treatment regimens. Calculate the IQR and quantitatively determine if there are any potential outliers. "
   ]
  },
  {
   "cell_type": "code",
   "execution_count": 120,
   "metadata": {},
   "outputs": [
    {
     "data": {
      "text/html": [
       "<div>\n",
       "<style scoped>\n",
       "    .dataframe tbody tr th:only-of-type {\n",
       "        vertical-align: middle;\n",
       "    }\n",
       "\n",
       "    .dataframe tbody tr th {\n",
       "        vertical-align: top;\n",
       "    }\n",
       "\n",
       "    .dataframe thead th {\n",
       "        text-align: right;\n",
       "    }\n",
       "</style>\n",
       "<table border=\"1\" class=\"dataframe\">\n",
       "  <thead>\n",
       "    <tr style=\"text-align: right;\">\n",
       "      <th></th>\n",
       "      <th>Mouse ID</th>\n",
       "      <th>Drug Regimen</th>\n",
       "      <th>Sex</th>\n",
       "      <th>Age_months</th>\n",
       "      <th>Weight (g)</th>\n",
       "      <th>Timepoint</th>\n",
       "      <th>Tumor Volume (mm3)</th>\n",
       "      <th>Metastatic Sites</th>\n",
       "    </tr>\n",
       "  </thead>\n",
       "  <tbody>\n",
       "    <tr>\n",
       "      <th>309</th>\n",
       "      <td>b128</td>\n",
       "      <td>Capomulin</td>\n",
       "      <td>Female</td>\n",
       "      <td>9</td>\n",
       "      <td>22</td>\n",
       "      <td>45</td>\n",
       "      <td>38.982878</td>\n",
       "      <td>2</td>\n",
       "    </tr>\n",
       "    <tr>\n",
       "      <th>299</th>\n",
       "      <td>b742</td>\n",
       "      <td>Capomulin</td>\n",
       "      <td>Male</td>\n",
       "      <td>7</td>\n",
       "      <td>21</td>\n",
       "      <td>45</td>\n",
       "      <td>38.939633</td>\n",
       "      <td>0</td>\n",
       "    </tr>\n",
       "    <tr>\n",
       "      <th>244</th>\n",
       "      <td>g288</td>\n",
       "      <td>Capomulin</td>\n",
       "      <td>Male</td>\n",
       "      <td>3</td>\n",
       "      <td>19</td>\n",
       "      <td>45</td>\n",
       "      <td>37.074024</td>\n",
       "      <td>1</td>\n",
       "    </tr>\n",
       "    <tr>\n",
       "      <th>360</th>\n",
       "      <td>g316</td>\n",
       "      <td>Capomulin</td>\n",
       "      <td>Female</td>\n",
       "      <td>22</td>\n",
       "      <td>22</td>\n",
       "      <td>45</td>\n",
       "      <td>40.159220</td>\n",
       "      <td>2</td>\n",
       "    </tr>\n",
       "    <tr>\n",
       "      <th>440</th>\n",
       "      <td>i557</td>\n",
       "      <td>Capomulin</td>\n",
       "      <td>Female</td>\n",
       "      <td>1</td>\n",
       "      <td>24</td>\n",
       "      <td>45</td>\n",
       "      <td>47.685963</td>\n",
       "      <td>1</td>\n",
       "    </tr>\n",
       "    <tr>\n",
       "      <th>...</th>\n",
       "      <td>...</td>\n",
       "      <td>...</td>\n",
       "      <td>...</td>\n",
       "      <td>...</td>\n",
       "      <td>...</td>\n",
       "      <td>...</td>\n",
       "      <td>...</td>\n",
       "      <td>...</td>\n",
       "    </tr>\n",
       "    <tr>\n",
       "      <th>1344</th>\n",
       "      <td>p136</td>\n",
       "      <td>Zoniferol</td>\n",
       "      <td>Female</td>\n",
       "      <td>5</td>\n",
       "      <td>28</td>\n",
       "      <td>45</td>\n",
       "      <td>63.488697</td>\n",
       "      <td>2</td>\n",
       "    </tr>\n",
       "    <tr>\n",
       "      <th>1416</th>\n",
       "      <td>q511</td>\n",
       "      <td>Zoniferol</td>\n",
       "      <td>Female</td>\n",
       "      <td>2</td>\n",
       "      <td>28</td>\n",
       "      <td>45</td>\n",
       "      <td>68.611061</td>\n",
       "      <td>3</td>\n",
       "    </tr>\n",
       "    <tr>\n",
       "      <th>1434</th>\n",
       "      <td>q633</td>\n",
       "      <td>Zoniferol</td>\n",
       "      <td>Male</td>\n",
       "      <td>12</td>\n",
       "      <td>25</td>\n",
       "      <td>45</td>\n",
       "      <td>70.827796</td>\n",
       "      <td>2</td>\n",
       "    </tr>\n",
       "    <tr>\n",
       "      <th>1518</th>\n",
       "      <td>s337</td>\n",
       "      <td>Zoniferol</td>\n",
       "      <td>Male</td>\n",
       "      <td>14</td>\n",
       "      <td>27</td>\n",
       "      <td>45</td>\n",
       "      <td>62.109651</td>\n",
       "      <td>4</td>\n",
       "    </tr>\n",
       "    <tr>\n",
       "      <th>1719</th>\n",
       "      <td>w575</td>\n",
       "      <td>Zoniferol</td>\n",
       "      <td>Female</td>\n",
       "      <td>16</td>\n",
       "      <td>28</td>\n",
       "      <td>45</td>\n",
       "      <td>68.401286</td>\n",
       "      <td>3</td>\n",
       "    </tr>\n",
       "  </tbody>\n",
       "</table>\n",
       "<p>130 rows × 8 columns</p>\n",
       "</div>"
      ],
      "text/plain": [
       "     Mouse ID Drug Regimen     Sex  Age_months  Weight (g)  Timepoint  \\\n",
       "309      b128    Capomulin  Female           9          22         45   \n",
       "299      b742    Capomulin    Male           7          21         45   \n",
       "244      g288    Capomulin    Male           3          19         45   \n",
       "360      g316    Capomulin  Female          22          22         45   \n",
       "440      i557    Capomulin  Female           1          24         45   \n",
       "...       ...          ...     ...         ...         ...        ...   \n",
       "1344     p136    Zoniferol  Female           5          28         45   \n",
       "1416     q511    Zoniferol  Female           2          28         45   \n",
       "1434     q633    Zoniferol    Male          12          25         45   \n",
       "1518     s337    Zoniferol    Male          14          27         45   \n",
       "1719     w575    Zoniferol  Female          16          28         45   \n",
       "\n",
       "      Tumor Volume (mm3)  Metastatic Sites  \n",
       "309            38.982878                 2  \n",
       "299            38.939633                 0  \n",
       "244            37.074024                 1  \n",
       "360            40.159220                 2  \n",
       "440            47.685963                 1  \n",
       "...                  ...               ...  \n",
       "1344           63.488697                 2  \n",
       "1416           68.611061                 3  \n",
       "1434           70.827796                 2  \n",
       "1518           62.109651                 4  \n",
       "1719           68.401286                 3  \n",
       "\n",
       "[130 rows x 8 columns]"
      ]
     },
     "execution_count": 120,
     "metadata": {},
     "output_type": "execute_result"
    }
   ],
   "source": [
    "final_df = merged_data.sort_values([\"Drug Regimen\", \"Mouse ID\", \"Timepoint\"], ascending=True)\n",
    " \n",
    "last_df = final_df.loc[final_df[\"Timepoint\"] == 45]\n",
    "\n",
    "last_df"
   ]
  },
  {
   "cell_type": "code",
   "execution_count": 121,
   "metadata": {},
   "outputs": [],
   "source": [
    "# Generate a box plot of the final tumor volume of each mouse across four regimens of interest"
   ]
  },
  {
   "cell_type": "code",
   "execution_count": 151,
   "metadata": {},
   "outputs": [
    {
     "name": "stdout",
     "output_type": "stream",
     "text": [
      "The lower quartile of tumor volumes observed for the Capomulin regimen is: 32.38 mm3\n",
      "The upper quartile of tumor volumes observed for the Capomulin regimen is: 40.16 mm3\n",
      "The interquartile range of tumor volumes observed for the Capomulin regimen is: 7.78 mm3\n",
      "The the median of tumor volumes observed for the Capomulin regimen is: 37.31mm3 \n",
      "Values below 20.7 mm3 could be outliers.\n",
      "Values above 51.83 mm3 could be outliers.\n"
     ]
    },
    {
     "data": {
      "image/png": "[encoded data removed]",
      "text/plain": [
       "<Figure size 432x288 with 1 Axes>"
      ]
     },
     "metadata": {
      "needs_background": "light"
     },
     "output_type": "display_data"
    }
   ],
   "source": [
    "promising_regimen = \"Capomulin\"\n",
    "cap_data_all = last_df[last_df[\"Drug Regimen\"].isin([\"Capomulin\"])]\n",
    "cap_data_vol = cap_data_all.sort_values([\"Tumor Volume (mm3)\"], ascending=True)\n",
    "cap_data_vol = cap_data_vol[\"Tumor Volume (mm3)\"]\n",
    "cap_data_vol\n",
    "\n",
    "quartiles = cap_data_vol.quantile([.25,.5,.75])\n",
    "lowerq = quartiles[0.25]\n",
    "upperq = quartiles[0.75]\n",
    "iqr = upperq-lowerq\n",
    "\n",
    "fig1, ax1 = plt.subplots()\n",
    "ax1.set_title('Final Tumor Volume in Capomulin Regimen')\n",
    "ax1.set_ylabel('Final Tumor Volume (mm3)')\n",
    "ax1.boxplot(cap_data_vol)\n",
    "\n",
    "print(f\"The lower quartile of tumor volumes observed for the {promising_regimen} regimen is: {round(lowerq,2)} mm3\")\n",
    "print(f\"The upper quartile of tumor volumes observed for the {promising_regimen} regimen is: {round(upperq,2)} mm3\")\n",
    "print(f\"The interquartile range of tumor volumes observed for the {promising_regimen} regimen is: {round(iqr,2)} mm3\")\n",
    "print(f\"The the median of tumor volumes observed for the {promising_regimen} regimen is: {round(quartiles[0.5],2)}mm3 \")\n",
    "\n",
    "lower_bound = lowerq - (1.5*iqr)\n",
    "upper_bound = upperq + (1.5*iqr)\n",
    "print(f\"Values below {round(lower_bound,2)} mm3 could be outliers.\")\n",
    "print(f\"Values above {round(upper_bound,2)} mm3 could be outliers.\")"
   ]
  },
  {
   "cell_type": "code",
   "execution_count": 152,
   "metadata": {},
   "outputs": [
    {
     "data": {
      "image/png": "[encoded data removed]",
      "text/plain": [
       "<Figure size 432x288 with 1 Axes>"
      ]
     },
     "metadata": {
      "needs_background": "light"
     },
     "output_type": "display_data"
    },
    {
     "name": "stdout",
     "output_type": "stream",
     "text": [
      "The lower quartile of tumor volumes observed for the Ramicane regimen is: 30.98 mm3\n",
      "The upper quartile of tumor volumes observed for the Ramicane regimen is: 38.51 mm3\n",
      "The interquartile range of tumor volumes observed for the Ramicane regimen is: 7.53 mm3\n",
      "The the median of tumor volumes observed for the Ramicane regimen is: 34.85mm3 \n",
      "Values below 19.69 mm3 could be outliers.\n",
      "Values above 49.8 mm3 could be outliers.\n"
     ]
    }
   ],
   "source": [
    "promising_regimen = \"Ramicane\"\n",
    "ram_data_all = last_df[last_df[\"Drug Regimen\"].isin([\"Ramicane\"])]\n",
    "ram_data_vol = ram_data_all.sort_values([\"Tumor Volume (mm3)\"], ascending=True)\n",
    "ram_data_vol = ram_data_vol[\"Tumor Volume (mm3)\"]\n",
    "ram_data_vol\n",
    "\n",
    "quartiles = ram_data_vol.quantile([.25,.5,.75])\n",
    "lowerq = quartiles[0.25]\n",
    "upperq = quartiles[0.75]\n",
    "iqr = upperq-lowerq\n",
    "\n",
    "fig1, ax1 = plt.subplots()\n",
    "ax1.set_title('Final Tumor Volume in Ramicane Regimen')\n",
    "ax1.set_ylabel('Final Tumor Volume (mm3)')\n",
    "ax1.boxplot(cap_data_vol)\n",
    "plt.show()\n",
    "\n",
    "print(f\"The lower quartile of tumor volumes observed for the {promising_regimen} regimen is: {round(lowerq,2)} mm3\")\n",
    "print(f\"The upper quartile of tumor volumes observed for the {promising_regimen} regimen is: {round(upperq,2)} mm3\")\n",
    "print(f\"The interquartile range of tumor volumes observed for the {promising_regimen} regimen is: {round(iqr,2)} mm3\")\n",
    "print(f\"The the median of tumor volumes observed for the {promising_regimen} regimen is: {round(quartiles[0.5],2)}mm3 \")\n",
    "\n",
    "lower_bound = lowerq - (1.5*iqr)\n",
    "upper_bound = upperq + (1.5*iqr)\n",
    "print(f\"Values below {round(lower_bound,2)} mm3 could be outliers.\")\n",
    "print(f\"Values above {round(upper_bound,2)} mm3 could be outliers.\")"
   ]
  },
  {
   "cell_type": "code",
   "execution_count": 153,
   "metadata": {},
   "outputs": [
    {
     "data": {
      "image/png": "[encoded data removed]",
      "text/plain": [
       "<Figure size 432x288 with 1 Axes>"
      ]
     },
     "metadata": {
      "needs_background": "light"
     },
     "output_type": "display_data"
    },
    {
     "name": "stdout",
     "output_type": "stream",
     "text": [
      "The lower quartile of tumor volumes observed for the Infubinol regimen is: 30.98 mm3\n",
      "The upper quartile of tumor volumes observed for the Infubinol regimen is: 38.51 mm3\n",
      "The interquartile range of tumor volumes observed for the Infubinol regimen is: 7.53 mm3\n",
      "The the median of tumor volumes observed for the Infubinol regimen is: 34.85mm3 \n",
      "Values below 19.69 mm3 could be outliers.\n",
      "Values above 49.8 mm3 could be outliers.\n"
     ]
    }
   ],
   "source": [
    "promising_regimen = \"Infubinol\"\n",
    "inf_data_all = last_df[last_df[\"Drug Regimen\"].isin([\"Ramicane\"])]\n",
    "inf_data_vol = inf_data_all.sort_values([\"Tumor Volume (mm3)\"], ascending=True)\n",
    "inf_data_vol = inf_data_vol[\"Tumor Volume (mm3)\"]\n",
    "inf_data_vol\n",
    "\n",
    "quartiles = inf_data_vol.quantile([.25,.5,.75])\n",
    "lowerq = quartiles[0.25]\n",
    "upperq = quartiles[0.75]\n",
    "iqr = upperq-lowerq\n",
    "\n",
    "fig1, ax1 = plt.subplots()\n",
    "ax1.set_title('Final Tumor Volume in Infubinol Regimen')\n",
    "ax1.set_ylabel('Final Tumor Volume (mm3)')\n",
    "ax1.boxplot(cap_data_vol)\n",
    "plt.show()\n",
    "\n",
    "print(f\"The lower quartile of tumor volumes observed for the {promising_regimen} regimen is: {round(lowerq,2)} mm3\")\n",
    "print(f\"The upper quartile of tumor volumes observed for the {promising_regimen} regimen is: {round(upperq,2)} mm3\")\n",
    "print(f\"The interquartile range of tumor volumes observed for the {promising_regimen} regimen is: {round(iqr,2)} mm3\")\n",
    "print(f\"The the median of tumor volumes observed for the {promising_regimen} regimen is: {round(quartiles[0.5],2)}mm3 \")\n",
    "\n",
    "lower_bound = lowerq - (1.5*iqr)\n",
    "upper_bound = upperq + (1.5*iqr)\n",
    "print(f\"Values below {round(lower_bound,2)} mm3 could be outliers.\")\n",
    "print(f\"Values above {round(upper_bound,2)} mm3 could be outliers.\")"
   ]
  },
  {
   "cell_type": "code",
   "execution_count": 154,
   "metadata": {},
   "outputs": [
    {
     "data": {
      "image/png": "[encoded data removed]",
      "text/plain": [
       "<Figure size 432x288 with 1 Axes>"
      ]
     },
     "metadata": {
      "needs_background": "light"
     },
     "output_type": "display_data"
    },
    {
     "name": "stdout",
     "output_type": "stream",
     "text": [
      "The lower quartile of tumor volumes observed for the Ceftamin regimen is: 30.98 mm3\n",
      "The upper quartile of tumor volumes observed for the Ceftamin regimen is: 38.51 mm3\n",
      "The interquartile range of tumor volumes observed for the Ceftamin regimen is: 7.53 mm3\n",
      "The the median of tumor volumes observed for the Ceftamin regimen is: 34.85mm3 \n",
      "Values below 19.69 mm3 could be outliers.\n",
      "Values above 49.8 mm3 could be outliers.\n"
     ]
    }
   ],
   "source": [
    "promising_regimen = \"Ceftamin\"\n",
    "cef_data_all = last_df[last_df[\"Drug Regimen\"].isin([\"Ramicane\"])]\n",
    "cef_data_vol = cef_data_all.sort_values([\"Tumor Volume (mm3)\"], ascending=True)\n",
    "cef_data_vol = cef_data_vol[\"Tumor Volume (mm3)\"]\n",
    "cef_data_vol\n",
    "\n",
    "quartiles = inf_data_vol.quantile([.25,.5,.75])\n",
    "lowerq = quartiles[0.25]\n",
    "upperq = quartiles[0.75]\n",
    "iqr = upperq-lowerq\n",
    "\n",
    "fig1, ax1 = plt.subplots()\n",
    "ax1.set_title('Final Tumor Volume in Ceftamin Regimen')\n",
    "ax1.set_ylabel('Final Tumor Volume (mm3)')\n",
    "ax1.boxplot(cap_data_vol)\n",
    "plt.show()\n",
    "\n",
    "print(f\"The lower quartile of tumor volumes observed for the {promising_regimen} regimen is: {round(lowerq,2)} mm3\")\n",
    "print(f\"The upper quartile of tumor volumes observed for the {promising_regimen} regimen is: {round(upperq,2)} mm3\")\n",
    "print(f\"The interquartile range of tumor volumes observed for the {promising_regimen} regimen is: {round(iqr,2)} mm3\")\n",
    "print(f\"The the median of tumor volumes observed for the {promising_regimen} regimen is: {round(quartiles[0.5],2)}mm3 \")\n",
    "\n",
    "lower_bound = lowerq - (1.5*iqr)\n",
    "upper_bound = upperq + (1.5*iqr)\n",
    "print(f\"Values below {round(lower_bound,2)} mm3 could be outliers.\")\n",
    "print(f\"Values above {round(upper_bound,2)} mm3 could be outliers.\")"
   ]
  },
  {
   "cell_type": "markdown",
   "metadata": {},
   "source": [
    "## Line and scatter plots"
   ]
  },
  {
   "cell_type": "code",
   "execution_count": 155,
   "metadata": {},
   "outputs": [
    {
     "data": {
      "text/html": [
       "<div>\n",
       "<style scoped>\n",
       "    .dataframe tbody tr th:only-of-type {\n",
       "        vertical-align: middle;\n",
       "    }\n",
       "\n",
       "    .dataframe tbody tr th {\n",
       "        vertical-align: top;\n",
       "    }\n",
       "\n",
       "    .dataframe thead th {\n",
       "        text-align: right;\n",
       "    }\n",
       "</style>\n",
       "<table border=\"1\" class=\"dataframe\">\n",
       "  <thead>\n",
       "    <tr style=\"text-align: right;\">\n",
       "      <th></th>\n",
       "      <th>Mouse ID</th>\n",
       "      <th>Drug Regimen</th>\n",
       "      <th>Sex</th>\n",
       "      <th>Age_months</th>\n",
       "      <th>Weight (g)</th>\n",
       "      <th>Timepoint</th>\n",
       "      <th>Tumor Volume (mm3)</th>\n",
       "      <th>Metastatic Sites</th>\n",
       "    </tr>\n",
       "  </thead>\n",
       "  <tbody>\n",
       "    <tr>\n",
       "      <th>10</th>\n",
       "      <td>s185</td>\n",
       "      <td>Capomulin</td>\n",
       "      <td>Female</td>\n",
       "      <td>3</td>\n",
       "      <td>17</td>\n",
       "      <td>0</td>\n",
       "      <td>45.000000</td>\n",
       "      <td>0</td>\n",
       "    </tr>\n",
       "    <tr>\n",
       "      <th>11</th>\n",
       "      <td>s185</td>\n",
       "      <td>Capomulin</td>\n",
       "      <td>Female</td>\n",
       "      <td>3</td>\n",
       "      <td>17</td>\n",
       "      <td>5</td>\n",
       "      <td>43.878496</td>\n",
       "      <td>0</td>\n",
       "    </tr>\n",
       "    <tr>\n",
       "      <th>12</th>\n",
       "      <td>s185</td>\n",
       "      <td>Capomulin</td>\n",
       "      <td>Female</td>\n",
       "      <td>3</td>\n",
       "      <td>17</td>\n",
       "      <td>10</td>\n",
       "      <td>37.614948</td>\n",
       "      <td>0</td>\n",
       "    </tr>\n",
       "    <tr>\n",
       "      <th>13</th>\n",
       "      <td>s185</td>\n",
       "      <td>Capomulin</td>\n",
       "      <td>Female</td>\n",
       "      <td>3</td>\n",
       "      <td>17</td>\n",
       "      <td>15</td>\n",
       "      <td>38.177232</td>\n",
       "      <td>0</td>\n",
       "    </tr>\n",
       "    <tr>\n",
       "      <th>14</th>\n",
       "      <td>s185</td>\n",
       "      <td>Capomulin</td>\n",
       "      <td>Female</td>\n",
       "      <td>3</td>\n",
       "      <td>17</td>\n",
       "      <td>20</td>\n",
       "      <td>36.866876</td>\n",
       "      <td>0</td>\n",
       "    </tr>\n",
       "  </tbody>\n",
       "</table>\n",
       "</div>"
      ],
      "text/plain": [
       "   Mouse ID Drug Regimen     Sex  Age_months  Weight (g)  Timepoint  \\\n",
       "10     s185    Capomulin  Female           3          17          0   \n",
       "11     s185    Capomulin  Female           3          17          5   \n",
       "12     s185    Capomulin  Female           3          17         10   \n",
       "13     s185    Capomulin  Female           3          17         15   \n",
       "14     s185    Capomulin  Female           3          17         20   \n",
       "\n",
       "    Tumor Volume (mm3)  Metastatic Sites  \n",
       "10           45.000000                 0  \n",
       "11           43.878496                 0  \n",
       "12           37.614948                 0  \n",
       "13           38.177232                 0  \n",
       "14           36.866876                 0  "
      ]
     },
     "execution_count": 155,
     "metadata": {},
     "output_type": "execute_result"
    }
   ],
   "source": [
    "# Generate a line plot of time point versus tumor volume for a mouse treated with Capomulin\n",
    "capomulin_df = merged_data.loc[merged_data[\"Drug Regimen\"] == \"Capomulin\"]\n",
    "capomulin_df.head()"
   ]
  },
  {
   "cell_type": "code",
   "execution_count": 156,
   "metadata": {},
   "outputs": [
    {
     "data": {
      "text/plain": [
       "Text(0, 0.5, 'Tumor Volume mm3')"
      ]
     },
     "execution_count": 156,
     "metadata": {},
     "output_type": "execute_result"
    },
    {
     "data": {
      "image/png": "[encoded data removed]",
      "text/plain": [
       "<Figure size 432x288 with 1 Axes>"
      ]
     },
     "metadata": {
      "needs_background": "light"
     },
     "output_type": "display_data"
    }
   ],
   "source": [
    "s185_df = capomulin_df.loc[capomulin_df[\"Mouse ID\"] == \"s185\"]\n",
    "s185_df = s185_df.loc[:, [\"Timepoint\", \"Tumor Volume (mm3)\"]]\n",
    "\n",
    "s185plot = s185_df.set_index('Timepoint').plot(linewidth=2.5, color=\"green\", title = \"S185 tumor volume over time under Capomulin\")\n",
    "s185plot.set_xlabel(\"Time Point\")\n",
    "s185plot.set_ylabel(\"Tumor Volume mm3\")"
   ]
  },
  {
   "cell_type": "code",
   "execution_count": 157,
   "metadata": {},
   "outputs": [],
   "source": [
    "# Generate a scatter plot of mouse weight versus average tumor volume for the Capomulin regimen"
   ]
  },
  {
   "cell_type": "code",
   "execution_count": 158,
   "metadata": {},
   "outputs": [],
   "source": [
    "# Calculate the correlation coefficient and linear regression model for mouse weight and average tumor volume for the Capomulin regimen"
   ]
  },
  {
   "cell_type": "code",
   "execution_count": 159,
   "metadata": {},
   "outputs": [
    {
     "data": {
      "text/html": [
       "<div>\n",
       "<style scoped>\n",
       "    .dataframe tbody tr th:only-of-type {\n",
       "        vertical-align: middle;\n",
       "    }\n",
       "\n",
       "    .dataframe tbody tr th {\n",
       "        vertical-align: top;\n",
       "    }\n",
       "\n",
       "    .dataframe thead th {\n",
       "        text-align: right;\n",
       "    }\n",
       "</style>\n",
       "<table border=\"1\" class=\"dataframe\">\n",
       "  <thead>\n",
       "    <tr style=\"text-align: right;\">\n",
       "      <th></th>\n",
       "      <th>Weight (g)</th>\n",
       "      <th>Average Volume</th>\n",
       "    </tr>\n",
       "    <tr>\n",
       "      <th>Mouse ID</th>\n",
       "      <th></th>\n",
       "      <th></th>\n",
       "    </tr>\n",
       "  </thead>\n",
       "  <tbody>\n",
       "    <tr>\n",
       "      <th>b128</th>\n",
       "      <td>22</td>\n",
       "      <td>41.963636</td>\n",
       "    </tr>\n",
       "    <tr>\n",
       "      <th>b742</th>\n",
       "      <td>21</td>\n",
       "      <td>40.083699</td>\n",
       "    </tr>\n",
       "    <tr>\n",
       "      <th>f966</th>\n",
       "      <td>17</td>\n",
       "      <td>36.505973</td>\n",
       "    </tr>\n",
       "    <tr>\n",
       "      <th>g288</th>\n",
       "      <td>19</td>\n",
       "      <td>41.990097</td>\n",
       "    </tr>\n",
       "    <tr>\n",
       "      <th>g316</th>\n",
       "      <td>22</td>\n",
       "      <td>44.613344</td>\n",
       "    </tr>\n",
       "  </tbody>\n",
       "</table>\n",
       "</div>"
      ],
      "text/plain": [
       "          Weight (g)  Average Volume\n",
       "Mouse ID                            \n",
       "b128              22       41.963636\n",
       "b742              21       40.083699\n",
       "f966              17       36.505973\n",
       "g288              19       41.990097\n",
       "g316              22       44.613344"
      ]
     },
     "execution_count": 159,
     "metadata": {},
     "output_type": "execute_result"
    }
   ],
   "source": [
    "reduced_df = capomulin_df.loc[:, [\"Mouse ID\", \"Weight (g)\", \"Tumor Volume (mm3)\"]]\n",
    "\n",
    "average_cap = pd.DataFrame(reduced_df.groupby([\"Mouse ID\", \"Weight (g)\"])[\"Tumor Volume (mm3)\"].mean()).reset_index()\n",
    "average_cap = average_cap.rename(columns={\"Tumor Volume (mm3)\": \"Average Volume\"})\n",
    "average_cap = average_cap.set_index('Mouse ID')\n",
    "average_cap.head()"
   ]
  },
  {
   "cell_type": "code",
   "execution_count": 160,
   "metadata": {},
   "outputs": [
    {
     "name": "stdout",
     "output_type": "stream",
     "text": [
      "The correlation between both factors is 0.84\n"
     ]
    },
    {
     "data": {
      "image/png": "[encoded data removed]",
      "text/plain": [
       "<Figure size 432x288 with 1 Axes>"
      ]
     },
     "metadata": {
      "needs_background": "light"
     },
     "output_type": "display_data"
    }
   ],
   "source": [
    "mouse_weight = average_cap.iloc[:,0]\n",
    "avg_tumor_volume = average_cap.iloc[:,1]\n",
    "correlation = st.pearsonr(mouse_weight,avg_tumor_volume)\n",
    "print(f\"The correlation between both factors is {round(correlation[0],2)}\")\n",
    "\n",
    "x_values = average_cap[\"Weight (g)\"]\n",
    "y_values = average_cap[\"Average Volume\"]\n",
    "(slope, intercept, rvalue, pvalue, stderr) = linregress(x_values, y_values)\n",
    "regress_values = x_values * slope + intercept\n",
    "line_eq = \"y = \" + str(round(slope,2)) + \"x + \" + str(round(intercept,2))\n",
    "plt.scatter(x_values,y_values)\n",
    "plt.plot(x_values,regress_values,\"r-\")\n",
    "plt.annotate(line_eq,(6,10),fontsize=15,color=\"red\")\n",
    "plt.xlabel('Mouse Weight')\n",
    "plt.ylabel('Average Tumor Volume')\n",
    "plt.show()"
   ]
  },
  {
   "cell_type": "code",
   "execution_count": null,
   "metadata": {},
   "outputs": [],
   "source": []
  }
 ],
 "metadata": {
  "anaconda-cloud": {},
  "kernelspec": {
   "display_name": "Python 3",
   "language": "python",
   "name": "python3"
  },
  "language_info": {
   "codemirror_mode": {
    "name": "ipython",
    "version": 3
   },
   "file_extension": ".py",
   "mimetype": "text/x-python",
   "name": "python",
   "nbconvert_exporter": "python",
   "pygments_lexer": "ipython3",
   "version": "3.6.10"
  }
 },
 "nbformat": 4,
 "nbformat_minor": 2
}
